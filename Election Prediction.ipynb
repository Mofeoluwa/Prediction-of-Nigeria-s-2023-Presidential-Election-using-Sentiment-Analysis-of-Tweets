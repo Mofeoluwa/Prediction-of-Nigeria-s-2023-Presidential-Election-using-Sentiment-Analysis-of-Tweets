{
 "cells": [
  {
   "cell_type": "code",
   "execution_count": 1,
   "id": "8e8abc90",
   "metadata": {
    "scrolled": true
   },
   "outputs": [],
   "source": [
    "#Imported the needed libraries for analysis\n",
    "import warnings \n",
    "warnings.filterwarnings ('ignore')\n",
    "\n",
    "import seaborn as sns\n",
    "import re\n",
    "import os \n",
    "import gzip \n",
    "from collections import Counter \n",
    "from pprint import pprint\n",
    "\n",
    "import pandas as pd \n",
    "import numpy as np\n",
    "import tweepy\n",
    "import csv\n",
    "\n",
    "import matplotlib \n",
    "import matplotlib.pyplot as plt\n",
    "\n",
    "np.random.seed(123)\n",
    "\n",
    "import string \n",
    "import nltk\n",
    "from nltk.corpus import stopwords \n",
    "from nltk.text import TextCollection \n",
    "from nltk.collocations import BigramCollocationFinder \n",
    "from nltk.metrics.association import BigramAssocMeasures\n",
    "from nltk.sentiment import SentimentIntensityAnalyzer\n",
    "from nltk.stem import WordNetLemmatizer\n",
    "from nltk.tokenize import sent_tokenize, word_tokenize\n",
    "from nltk.tokenize import RegexpTokenizer\n",
    "from nltk.corpus import stopwords \n",
    "from nltk.text import TextCollection \n",
    "from sklearn.feature_extraction.text import CountVectorizer\n",
    "from sklearn.feature_extraction.text import TfidfVectorizer\n",
    "from textblob import TextBlob\n",
    "\n",
    "\n",
    "import sklearn \n",
    "from sklearn.manifold import TSNE \n",
    "from sklearn.metrics.pairwise import cosine_similarity\n",
    "\n",
    "from tqdm.notebook import tqdm\n",
    "\n",
    "import watermark\n",
    "\n",
    "%load_ext watermark\n",
    "\n",
    "%matplotlib inline"
   ]
  },
  {
   "cell_type": "markdown",
   "id": "6bc07317",
   "metadata": {},
   "source": [
    "# Data Gathering"
   ]
  },
  {
   "cell_type": "markdown",
   "id": "ccfa5829",
   "metadata": {},
   "source": [
    "In this section, we focused on using tweepy to scrape tweeets from twitter.\n",
    "10,000 tweets per candidate on the 18th of November, 2022.\n"
   ]
  },
  {
   "cell_type": "code",
   "execution_count": 2,
   "id": "62c62036",
   "metadata": {},
   "outputs": [],
   "source": [
    "consumer_key = '3m6LjclW3VpMiF8BfbYW4gDqA'\n",
    "consumer_secret = 'x8sWJU444fPDabqenAwhBwWIaQRKPG3S1gqvN54GbwMXCmU5zA'\n",
    "access_token = '383866844-HwLH0lUbulN1oNb5pz8IeBV0ahSiJXu7CiNVpnBj'\n",
    "access_secret = 'N6dv2OVdwLZhnyPiNHZu10VrCyyCrEbgBXuDYF94yaPGM'\n"
   ]
  },
  {
   "cell_type": "code",
   "execution_count": 3,
   "id": "987ab454",
   "metadata": {},
   "outputs": [],
   "source": [
    "auth = tweepy.OAuthHandler(consumer_key, consumer_secret)\n",
    "auth.set_access_token(access_token, access_secret)\n",
    "api = tweepy.API(auth,wait_on_rate_limit=True)\n"
   ]
  },
  {
   "cell_type": "code",
   "execution_count": null,
   "id": "2dbebccf",
   "metadata": {},
   "outputs": [],
   "source": [
    "# assign header columns\n",
    "header = ['Time', 'Text']"
   ]
  },
  {
   "cell_type": "code",
   "execution_count": 4,
   "id": "a0630793",
   "metadata": {},
   "outputs": [],
   "source": [
    "# Open/Create a file to append data\n",
    "csvFile = open('Peter_Obi.csv', 'a')\n",
    "\n",
    "# open CSV file and assign header\n",
    "with open(\"Peter_Obi.csv\", 'w') as file:\n",
    "    dw = csv.DictWriter(file, delimiter=',', \n",
    "                        fieldnames=header)\n",
    "    dw.writeheader()\n",
    "  "
   ]
  },
  {
   "cell_type": "code",
   "execution_count": 6,
   "id": "2b86a936",
   "metadata": {},
   "outputs": [],
   "source": [
    "#Use csv Writer\n",
    "csvWriter = csv.writer(csvFile)"
   ]
  },
  {
   "cell_type": "code",
   "execution_count": 7,
   "id": "03daa8a0",
   "metadata": {},
   "outputs": [
    {
     "name": "stderr",
     "output_type": "stream",
     "text": [
      "Rate limit reached. Sleeping for: 337\n",
      "Rate limit reached. Sleeping for: 833\n",
      "Rate limit reached. Sleeping for: 843\n",
      "Rate limit reached. Sleeping for: 840\n"
     ]
    },
    {
     "name": "stdout",
     "output_type": "stream",
     "text": [
      "Total tweets fetched: 10000\n"
     ]
    }
   ],
   "source": [
    "tweets=[]\n",
    "for tweet in tweepy.Cursor(api.search_tweets,q=\"Peter Obi\",\n",
    "                           lang=\"en\",\n",
    "                           since_id=\"2022-11-18\").items(10000):\n",
    "    csvWriter.writerow([tweet.created_at, tweet.text.encode('utf-8')])\n",
    "    tweets.append(tweet)\n",
    "\n",
    "print(\"Total tweets fetched:\", len(tweets))\n"
   ]
  },
  {
   "cell_type": "code",
   "execution_count": 8,
   "id": "f052f43e",
   "metadata": {},
   "outputs": [],
   "source": [
    "# Open/Create a file to append data\n",
    "csvFile = open('Asiwaju_Tinubu.csv', 'a')\n",
    "\n",
    "# open CSV file and assign header\n",
    "with open(\"Asiwaju_Tinubu.csv\", 'w') as file:\n",
    "    dw = csv.DictWriter(file, delimiter=',', \n",
    "                        fieldnames=header)\n",
    "    dw.writeheader()\n",
    "  "
   ]
  },
  {
   "cell_type": "code",
   "execution_count": 9,
   "id": "6ad04bbf",
   "metadata": {},
   "outputs": [],
   "source": [
    "#Use csv Writer\n",
    "csvWriter = csv.writer(csvFile)"
   ]
  },
  {
   "cell_type": "code",
   "execution_count": 10,
   "id": "e9cf7459",
   "metadata": {},
   "outputs": [
    {
     "name": "stderr",
     "output_type": "stream",
     "text": [
      "Rate limit reached. Sleeping for: 717\n",
      "Rate limit reached. Sleeping for: 845\n",
      "Rate limit reached. Sleeping for: 844\n"
     ]
    },
    {
     "name": "stdout",
     "output_type": "stream",
     "text": [
      "Total tweets fetched: 10000\n"
     ]
    }
   ],
   "source": [
    "tweets=[]\n",
    "for tweet in tweepy.Cursor(api.search_tweets,q=\"Bola Ahmed Tinubu\",\n",
    "                           lang=\"en\",\n",
    "                           since_id=\"2022-11-18\").items(10000):\n",
    "    csvWriter.writerow([tweet.created_at, tweet.text.encode('utf-8')])\n",
    "    tweets.append(tweet)\n",
    "\n",
    "print(\"Total tweets fetched:\", len(tweets))\n"
   ]
  },
  {
   "cell_type": "code",
   "execution_count": 11,
   "id": "c90cc6fc",
   "metadata": {},
   "outputs": [],
   "source": [
    "# Open/Create a file to append data\n",
    "csvFile = open('Atiku_Abubakar.csv', 'a')\n",
    "\n",
    "# open CSV file and assign header\n",
    "with open(\"Atiku_Abubakar.csv\", 'w') as file:\n",
    "    dw = csv.DictWriter(file, delimiter=',', \n",
    "                        fieldnames=header)\n",
    "    dw.writeheader()\n",
    "  "
   ]
  },
  {
   "cell_type": "code",
   "execution_count": 12,
   "id": "1ddf3201",
   "metadata": {},
   "outputs": [],
   "source": [
    "#Use csv Writer\n",
    "csvWriter = csv.writer(csvFile)"
   ]
  },
  {
   "cell_type": "code",
   "execution_count": 13,
   "id": "75ec56d5",
   "metadata": {},
   "outputs": [
    {
     "name": "stderr",
     "output_type": "stream",
     "text": [
      "Rate limit reached. Sleeping for: 420\n",
      "Rate limit reached. Sleeping for: 846\n",
      "Rate limit reached. Sleeping for: 846\n",
      "Rate limit reached. Sleeping for: 846\n"
     ]
    },
    {
     "name": "stdout",
     "output_type": "stream",
     "text": [
      "Total tweets fetched: 10000\n"
     ]
    }
   ],
   "source": [
    "tweets=[]\n",
    "for tweet in tweepy.Cursor(api.search_tweets,q=\"Atiku Abubakar\",\n",
    "                           lang=\"en\",\n",
    "                           since_id=\"2022-11-18\").items(10000):\n",
    "    csvWriter.writerow([tweet.created_at, tweet.text.encode('utf-8')])\n",
    "    tweets.append(tweet)\n",
    "\n",
    "print(\"Total tweets fetched:\", len(tweets))\n"
   ]
  },
  {
   "cell_type": "markdown",
   "id": "fed51d5f",
   "metadata": {},
   "source": [
    "# Data Cleaning"
   ]
  },
  {
   "cell_type": "code",
   "execution_count": 2,
   "id": "6349742e",
   "metadata": {},
   "outputs": [],
   "source": [
    "peter_df=pd.read_csv(\"Peter_Obi.csv\")"
   ]
  },
  {
   "cell_type": "code",
   "execution_count": 3,
   "id": "795fff9c",
   "metadata": {},
   "outputs": [],
   "source": [
    "peter_df['ID'] = range(1, len(peter_df) + 1)\n",
    "#peter_df.set_index('ID', inplace=True)"
   ]
  },
  {
   "cell_type": "code",
   "execution_count": 4,
   "id": "d36c64ff",
   "metadata": {
    "scrolled": false
   },
   "outputs": [
    {
     "name": "stdout",
     "output_type": "stream",
     "text": [
      "<class 'pandas.core.frame.DataFrame'>\n",
      "RangeIndex: 10000 entries, 0 to 9999\n",
      "Data columns (total 3 columns):\n",
      " #   Column  Non-Null Count  Dtype \n",
      "---  ------  --------------  ----- \n",
      " 0   Time    10000 non-null  object\n",
      " 1   Text    10000 non-null  object\n",
      " 2   ID      10000 non-null  int64 \n",
      "dtypes: int64(1), object(2)\n",
      "memory usage: 234.5+ KB\n"
     ]
    }
   ],
   "source": [
    "peter_df.info()"
   ]
  },
  {
   "cell_type": "code",
   "execution_count": 5,
   "id": "c2bb5b1d",
   "metadata": {},
   "outputs": [
    {
     "data": {
      "text/html": [
       "<div>\n",
       "<style scoped>\n",
       "    .dataframe tbody tr th:only-of-type {\n",
       "        vertical-align: middle;\n",
       "    }\n",
       "\n",
       "    .dataframe tbody tr th {\n",
       "        vertical-align: top;\n",
       "    }\n",
       "\n",
       "    .dataframe thead th {\n",
       "        text-align: right;\n",
       "    }\n",
       "</style>\n",
       "<table border=\"1\" class=\"dataframe\">\n",
       "  <thead>\n",
       "    <tr style=\"text-align: right;\">\n",
       "      <th></th>\n",
       "      <th>Time</th>\n",
       "      <th>Text</th>\n",
       "      <th>ID</th>\n",
       "    </tr>\n",
       "  </thead>\n",
       "  <tbody>\n",
       "    <tr>\n",
       "      <th>0</th>\n",
       "      <td>2022-11-18 22:50:30+00:00</td>\n",
       "      <td>b'RT @Sports_Doctor2: Peter Obi as Governor of...</td>\n",
       "      <td>1</td>\n",
       "    </tr>\n",
       "    <tr>\n",
       "      <th>1</th>\n",
       "      <td>2022-11-18 22:50:26+00:00</td>\n",
       "      <td>b'RT @jeffphilips1: Peter Obi is planning to c...</td>\n",
       "      <td>2</td>\n",
       "    </tr>\n",
       "    <tr>\n",
       "      <th>2</th>\n",
       "      <td>2022-11-18 22:50:20+00:00</td>\n",
       "      <td>b'RT @NnamdiChife: Peter Obi will win the FCT.'</td>\n",
       "      <td>3</td>\n",
       "    </tr>\n",
       "    <tr>\n",
       "      <th>3</th>\n",
       "      <td>2022-11-18 22:50:18+00:00</td>\n",
       "      <td>b'RT @BishopPOEvang: We had a blast time today...</td>\n",
       "      <td>4</td>\n",
       "    </tr>\n",
       "    <tr>\n",
       "      <th>4</th>\n",
       "      <td>2022-11-18 22:50:18+00:00</td>\n",
       "      <td>b\"RT @AishaYesufu: When Peter Obi @PeterObi sp...</td>\n",
       "      <td>5</td>\n",
       "    </tr>\n",
       "  </tbody>\n",
       "</table>\n",
       "</div>"
      ],
      "text/plain": [
       "                        Time  \\\n",
       "0  2022-11-18 22:50:30+00:00   \n",
       "1  2022-11-18 22:50:26+00:00   \n",
       "2  2022-11-18 22:50:20+00:00   \n",
       "3  2022-11-18 22:50:18+00:00   \n",
       "4  2022-11-18 22:50:18+00:00   \n",
       "\n",
       "                                                Text  ID  \n",
       "0  b'RT @Sports_Doctor2: Peter Obi as Governor of...   1  \n",
       "1  b'RT @jeffphilips1: Peter Obi is planning to c...   2  \n",
       "2    b'RT @NnamdiChife: Peter Obi will win the FCT.'   3  \n",
       "3  b'RT @BishopPOEvang: We had a blast time today...   4  \n",
       "4  b\"RT @AishaYesufu: When Peter Obi @PeterObi sp...   5  "
      ]
     },
     "execution_count": 5,
     "metadata": {},
     "output_type": "execute_result"
    }
   ],
   "source": [
    "peter_df.head()"
   ]
  },
  {
   "cell_type": "code",
   "execution_count": 6,
   "id": "60c8fbc5",
   "metadata": {},
   "outputs": [],
   "source": [
    "tinubu_df=pd.read_csv(\"Asiwaju_Tinubu.csv\")"
   ]
  },
  {
   "cell_type": "code",
   "execution_count": 7,
   "id": "ce8167c0",
   "metadata": {},
   "outputs": [],
   "source": [
    "tinubu_df['ID'] = range(1, len(tinubu_df) + 1)\n",
    "#tinubu_df.set_index('ID', inplace=True)"
   ]
  },
  {
   "cell_type": "code",
   "execution_count": 8,
   "id": "b4c850ec",
   "metadata": {
    "scrolled": true
   },
   "outputs": [
    {
     "name": "stdout",
     "output_type": "stream",
     "text": [
      "<class 'pandas.core.frame.DataFrame'>\n",
      "RangeIndex: 10000 entries, 0 to 9999\n",
      "Data columns (total 3 columns):\n",
      " #   Column  Non-Null Count  Dtype \n",
      "---  ------  --------------  ----- \n",
      " 0   Time    10000 non-null  object\n",
      " 1   Text    10000 non-null  object\n",
      " 2   ID      10000 non-null  int64 \n",
      "dtypes: int64(1), object(2)\n",
      "memory usage: 234.5+ KB\n"
     ]
    }
   ],
   "source": [
    "tinubu_df.info()"
   ]
  },
  {
   "cell_type": "code",
   "execution_count": 9,
   "id": "920960c0",
   "metadata": {},
   "outputs": [
    {
     "data": {
      "text/html": [
       "<div>\n",
       "<style scoped>\n",
       "    .dataframe tbody tr th:only-of-type {\n",
       "        vertical-align: middle;\n",
       "    }\n",
       "\n",
       "    .dataframe tbody tr th {\n",
       "        vertical-align: top;\n",
       "    }\n",
       "\n",
       "    .dataframe thead th {\n",
       "        text-align: right;\n",
       "    }\n",
       "</style>\n",
       "<table border=\"1\" class=\"dataframe\">\n",
       "  <thead>\n",
       "    <tr style=\"text-align: right;\">\n",
       "      <th></th>\n",
       "      <th>Time</th>\n",
       "      <th>Text</th>\n",
       "      <th>ID</th>\n",
       "    </tr>\n",
       "  </thead>\n",
       "  <tbody>\n",
       "    <tr>\n",
       "      <th>0</th>\n",
       "      <td>2022-11-18 23:44:03+00:00</td>\n",
       "      <td>b\"RT @DavidHundeyin: For those who still haven...</td>\n",
       "      <td>1</td>\n",
       "    </tr>\n",
       "    <tr>\n",
       "      <th>1</th>\n",
       "      <td>2022-11-18 23:43:44+00:00</td>\n",
       "      <td>b\"RT @DavidHundeyin: For those who still haven...</td>\n",
       "      <td>2</td>\n",
       "    </tr>\n",
       "    <tr>\n",
       "      <th>2</th>\n",
       "      <td>2022-11-18 23:43:27+00:00</td>\n",
       "      <td>b\"RT @DavidHundeyin: For those who still haven...</td>\n",
       "      <td>3</td>\n",
       "    </tr>\n",
       "    <tr>\n",
       "      <th>3</th>\n",
       "      <td>2022-11-18 23:43:11+00:00</td>\n",
       "      <td>b\"RT @DavidHundeyin: For those who still haven...</td>\n",
       "      <td>4</td>\n",
       "    </tr>\n",
       "    <tr>\n",
       "      <th>4</th>\n",
       "      <td>2022-11-18 23:43:02+00:00</td>\n",
       "      <td>b'RT @JeffreyGuterman: Tinubu submitted forged...</td>\n",
       "      <td>5</td>\n",
       "    </tr>\n",
       "  </tbody>\n",
       "</table>\n",
       "</div>"
      ],
      "text/plain": [
       "                        Time  \\\n",
       "0  2022-11-18 23:44:03+00:00   \n",
       "1  2022-11-18 23:43:44+00:00   \n",
       "2  2022-11-18 23:43:27+00:00   \n",
       "3  2022-11-18 23:43:11+00:00   \n",
       "4  2022-11-18 23:43:02+00:00   \n",
       "\n",
       "                                                Text  ID  \n",
       "0  b\"RT @DavidHundeyin: For those who still haven...   1  \n",
       "1  b\"RT @DavidHundeyin: For those who still haven...   2  \n",
       "2  b\"RT @DavidHundeyin: For those who still haven...   3  \n",
       "3  b\"RT @DavidHundeyin: For those who still haven...   4  \n",
       "4  b'RT @JeffreyGuterman: Tinubu submitted forged...   5  "
      ]
     },
     "execution_count": 9,
     "metadata": {},
     "output_type": "execute_result"
    }
   ],
   "source": [
    "tinubu_df.head()"
   ]
  },
  {
   "cell_type": "code",
   "execution_count": 10,
   "id": "833b8acb",
   "metadata": {},
   "outputs": [],
   "source": [
    "atiku_df=pd.read_csv(\"Atiku_Abubakar.csv\")"
   ]
  },
  {
   "cell_type": "code",
   "execution_count": 11,
   "id": "39931e69",
   "metadata": {},
   "outputs": [],
   "source": [
    "atiku_df['ID'] = range(1, len(atiku_df) + 1)\n",
    "#atiku_df.set_index('ID', inplace=True)"
   ]
  },
  {
   "cell_type": "code",
   "execution_count": 12,
   "id": "409c5784",
   "metadata": {},
   "outputs": [
    {
     "name": "stdout",
     "output_type": "stream",
     "text": [
      "<class 'pandas.core.frame.DataFrame'>\n",
      "RangeIndex: 10000 entries, 0 to 9999\n",
      "Data columns (total 3 columns):\n",
      " #   Column  Non-Null Count  Dtype \n",
      "---  ------  --------------  ----- \n",
      " 0   Time    10000 non-null  object\n",
      " 1   Text    10000 non-null  object\n",
      " 2   ID      10000 non-null  int64 \n",
      "dtypes: int64(1), object(2)\n",
      "memory usage: 234.5+ KB\n"
     ]
    }
   ],
   "source": [
    "atiku_df.info()"
   ]
  },
  {
   "cell_type": "code",
   "execution_count": 13,
   "id": "e8b881e9",
   "metadata": {},
   "outputs": [
    {
     "data": {
      "text/html": [
       "<div>\n",
       "<style scoped>\n",
       "    .dataframe tbody tr th:only-of-type {\n",
       "        vertical-align: middle;\n",
       "    }\n",
       "\n",
       "    .dataframe tbody tr th {\n",
       "        vertical-align: top;\n",
       "    }\n",
       "\n",
       "    .dataframe thead th {\n",
       "        text-align: right;\n",
       "    }\n",
       "</style>\n",
       "<table border=\"1\" class=\"dataframe\">\n",
       "  <thead>\n",
       "    <tr style=\"text-align: right;\">\n",
       "      <th></th>\n",
       "      <th>Time</th>\n",
       "      <th>Text</th>\n",
       "      <th>ID</th>\n",
       "    </tr>\n",
       "  </thead>\n",
       "  <tbody>\n",
       "    <tr>\n",
       "      <th>0</th>\n",
       "      <td>2022-11-19 00:33:01+00:00</td>\n",
       "      <td>b\"RT @Ucijomanta: Restructuring,\\nRule of Law,...</td>\n",
       "      <td>1</td>\n",
       "    </tr>\n",
       "    <tr>\n",
       "      <th>1</th>\n",
       "      <td>2022-11-19 00:26:21+00:00</td>\n",
       "      <td>b'RT @Capt_Aliyu: Buhari will go down as the w...</td>\n",
       "      <td>2</td>\n",
       "    </tr>\n",
       "    <tr>\n",
       "      <th>2</th>\n",
       "      <td>2022-11-19 00:18:57+00:00</td>\n",
       "      <td>b'RT @Dec_Uche: Atiku Abubakar is 360 degrees ...</td>\n",
       "      <td>3</td>\n",
       "    </tr>\n",
       "    <tr>\n",
       "      <th>3</th>\n",
       "      <td>2022-11-19 00:16:53+00:00</td>\n",
       "      <td>b'RT @Tony_Ogbuagu: If there is anything you w...</td>\n",
       "      <td>4</td>\n",
       "    </tr>\n",
       "    <tr>\n",
       "      <th>4</th>\n",
       "      <td>2022-11-19 00:16:24+00:00</td>\n",
       "      <td>b'RT @cousinray_: BREAKING NEWS!! \\nMFN Coalit...</td>\n",
       "      <td>5</td>\n",
       "    </tr>\n",
       "  </tbody>\n",
       "</table>\n",
       "</div>"
      ],
      "text/plain": [
       "                        Time  \\\n",
       "0  2022-11-19 00:33:01+00:00   \n",
       "1  2022-11-19 00:26:21+00:00   \n",
       "2  2022-11-19 00:18:57+00:00   \n",
       "3  2022-11-19 00:16:53+00:00   \n",
       "4  2022-11-19 00:16:24+00:00   \n",
       "\n",
       "                                                Text  ID  \n",
       "0  b\"RT @Ucijomanta: Restructuring,\\nRule of Law,...   1  \n",
       "1  b'RT @Capt_Aliyu: Buhari will go down as the w...   2  \n",
       "2  b'RT @Dec_Uche: Atiku Abubakar is 360 degrees ...   3  \n",
       "3  b'RT @Tony_Ogbuagu: If there is anything you w...   4  \n",
       "4  b'RT @cousinray_: BREAKING NEWS!! \\nMFN Coalit...   5  "
      ]
     },
     "execution_count": 13,
     "metadata": {},
     "output_type": "execute_result"
    }
   ],
   "source": [
    "atiku_df.head()"
   ]
  },
  {
   "cell_type": "code",
   "execution_count": 14,
   "id": "70075a53",
   "metadata": {},
   "outputs": [],
   "source": [
    "clean_tweets=peter_df['Text']\n",
    "peter_df['Clean_Tweets']=clean_tweets"
   ]
  },
  {
   "cell_type": "code",
   "execution_count": 15,
   "id": "25b7b01d",
   "metadata": {},
   "outputs": [],
   "source": [
    "#convert the text in the Text column to lowercase\n",
    "\n",
    "peter_df['Clean_Tweets'] = peter_df['Clean_Tweets'].str.lower()\n",
    "\n",
    "#remove usernames\n",
    "peter_df['Clean_Tweets'] = peter_df['Clean_Tweets'].str.replace('@[\\w]+','', regex=True)\n",
    "\n",
    "\n",
    "peter_df['Clean_Tweets'] = peter_df['Clean_Tweets'].str.replace('b\\'rt\\s','', regex=True)\n",
    "\n",
    "peter_df['Clean_Tweets'] = peter_df['Clean_Tweets'].str.replace('b\\\"rt\\s','', regex=True)\n",
    "\n",
    "peter_df['Clean_Tweets'] = peter_df['Clean_Tweets'].str.replace('\\n','', regex=True)\n",
    "\n",
    "peter_df['Clean_Tweets'] = peter_df['Clean_Tweets'].str.replace('\\n','', regex=True)\n",
    "\n",
    "#remove non-alphanumeric characters\n",
    "peter_df['Clean_Tweets'] = peter_df['Clean_Tweets'].str.replace('[^a-z0-9]',' ', regex=True)\n",
    "\n",
    "#remove links\n",
    "peter_df['Clean_Tweets'] = peter_df['Clean_Tweets'].str.replace('http\\S+','', regex=True)\n",
    "\n",
    "peter_df['Clean_Tweets'] = peter_df['Clean_Tweets'].str.replace('www.\\S+','', regex=True)\n",
    "\n",
    "#remove hashtags\n",
    "peter_df['Clean_Tweets'] = peter_df['Clean_Tweets'].str.replace('#[A-Za-z0-9_]','', regex=True)\n",
    "\n",
    "#remove multiple spaces\n",
    "peter_df['Clean_Tweets'] = peter_df['Clean_Tweets'].str.replace('\\s+',' ', regex=True)\n",
    "\n",
    "#remove single characters\n",
    "peter_df['Clean_Tweets'] = peter_df['Clean_Tweets'].str.replace('\\s+[a-zA-Z]\\s+',' ', regex=True)\n",
    "\n",
    "#remove digits\n",
    "peter_df['Clean_Tweets'] = peter_df['Clean_Tweets'].str.replace('\\d+','', regex=True)"
   ]
  },
  {
   "cell_type": "code",
   "execution_count": 16,
   "id": "267504e0",
   "metadata": {},
   "outputs": [
    {
     "data": {
      "text/html": [
       "<div>\n",
       "<style scoped>\n",
       "    .dataframe tbody tr th:only-of-type {\n",
       "        vertical-align: middle;\n",
       "    }\n",
       "\n",
       "    .dataframe tbody tr th {\n",
       "        vertical-align: top;\n",
       "    }\n",
       "\n",
       "    .dataframe thead th {\n",
       "        text-align: right;\n",
       "    }\n",
       "</style>\n",
       "<table border=\"1\" class=\"dataframe\">\n",
       "  <thead>\n",
       "    <tr style=\"text-align: right;\">\n",
       "      <th></th>\n",
       "      <th>Time</th>\n",
       "      <th>Text</th>\n",
       "      <th>ID</th>\n",
       "      <th>Clean_Tweets</th>\n",
       "    </tr>\n",
       "  </thead>\n",
       "  <tbody>\n",
       "    <tr>\n",
       "      <th>0</th>\n",
       "      <td>2022-11-18 22:50:30+00:00</td>\n",
       "      <td>b'RT @Sports_Doctor2: Peter Obi as Governor of...</td>\n",
       "      <td>1</td>\n",
       "      <td>peter obi as governor of anambra state invite...</td>\n",
       "    </tr>\n",
       "    <tr>\n",
       "      <th>1</th>\n",
       "      <td>2022-11-18 22:50:26+00:00</td>\n",
       "      <td>b'RT @jeffphilips1: Peter Obi is planning to c...</td>\n",
       "      <td>2</td>\n",
       "      <td>peter obi is planning to come and render all ...</td>\n",
       "    </tr>\n",
       "    <tr>\n",
       "      <th>2</th>\n",
       "      <td>2022-11-18 22:50:20+00:00</td>\n",
       "      <td>b'RT @NnamdiChife: Peter Obi will win the FCT.'</td>\n",
       "      <td>3</td>\n",
       "      <td>peter obi will win the fct</td>\n",
       "    </tr>\n",
       "    <tr>\n",
       "      <th>3</th>\n",
       "      <td>2022-11-18 22:50:18+00:00</td>\n",
       "      <td>b'RT @BishopPOEvang: We had a blast time today...</td>\n",
       "      <td>4</td>\n",
       "      <td>we had blast time today sensitization for gra...</td>\n",
       "    </tr>\n",
       "    <tr>\n",
       "      <th>4</th>\n",
       "      <td>2022-11-18 22:50:18+00:00</td>\n",
       "      <td>b\"RT @AishaYesufu: When Peter Obi @PeterObi sp...</td>\n",
       "      <td>5</td>\n",
       "      <td>when peter obi speaks don hold my breath know...</td>\n",
       "    </tr>\n",
       "  </tbody>\n",
       "</table>\n",
       "</div>"
      ],
      "text/plain": [
       "                        Time  \\\n",
       "0  2022-11-18 22:50:30+00:00   \n",
       "1  2022-11-18 22:50:26+00:00   \n",
       "2  2022-11-18 22:50:20+00:00   \n",
       "3  2022-11-18 22:50:18+00:00   \n",
       "4  2022-11-18 22:50:18+00:00   \n",
       "\n",
       "                                                Text  ID  \\\n",
       "0  b'RT @Sports_Doctor2: Peter Obi as Governor of...   1   \n",
       "1  b'RT @jeffphilips1: Peter Obi is planning to c...   2   \n",
       "2    b'RT @NnamdiChife: Peter Obi will win the FCT.'   3   \n",
       "3  b'RT @BishopPOEvang: We had a blast time today...   4   \n",
       "4  b\"RT @AishaYesufu: When Peter Obi @PeterObi sp...   5   \n",
       "\n",
       "                                        Clean_Tweets  \n",
       "0   peter obi as governor of anambra state invite...  \n",
       "1   peter obi is planning to come and render all ...  \n",
       "2                        peter obi will win the fct   \n",
       "3   we had blast time today sensitization for gra...  \n",
       "4   when peter obi speaks don hold my breath know...  "
      ]
     },
     "execution_count": 16,
     "metadata": {},
     "output_type": "execute_result"
    }
   ],
   "source": [
    "peter_df.head()"
   ]
  },
  {
   "cell_type": "code",
   "execution_count": 17,
   "id": "fcf162df",
   "metadata": {},
   "outputs": [],
   "source": [
    "clean_tweets=tinubu_df['Text']\n",
    "tinubu_df['Clean_Tweets']=clean_tweets"
   ]
  },
  {
   "cell_type": "code",
   "execution_count": 18,
   "id": "fa212d30",
   "metadata": {},
   "outputs": [],
   "source": [
    "#convert the text in the Text column to lowercase\n",
    "\n",
    "tinubu_df['Clean_Tweets'] = tinubu_df['Clean_Tweets'].str.lower()\n",
    "\n",
    "#remove usernames\n",
    "tinubu_df['Clean_Tweets'] = tinubu_df['Clean_Tweets'].str.replace('@[\\w]+','', regex=True)\n",
    "\n",
    "\n",
    "tinubu_df['Clean_Tweets'] = tinubu_df['Clean_Tweets'].str.replace('b\\'rt\\s','', regex=True)\n",
    "\n",
    "tinubu_df['Clean_Tweets'] = tinubu_df['Clean_Tweets'].str.replace('b\\\"rt\\s','', regex=True)\n",
    "\n",
    "tinubu_df['Clean_Tweets'] = tinubu_df['Clean_Tweets'].str.replace('\\n','', regex=True)\n",
    "\n",
    "tinubu_df['Clean_Tweets'] = tinubu_df['Clean_Tweets'].str.replace('\\n','', regex=True)\n",
    "\n",
    "\n",
    "#remove non-alphanumeric characters\n",
    "tinubu_df['Clean_Tweets'] = tinubu_df['Clean_Tweets'].str.replace('[^a-z0-9]',' ', regex=True)\n",
    "\n",
    "#remove links\n",
    "tinubu_df['Clean_Tweets'] = tinubu_df['Clean_Tweets'].str.replace('http\\S+','', regex=True)\n",
    "\n",
    "tinubu_df['Clean_Tweets'] = tinubu_df['Clean_Tweets'].str.replace('www.\\S+','', regex=True)\n",
    "\n",
    "\n",
    "#remove hashtags\n",
    "tinubu_df['Clean_Tweets'] = tinubu_df['Clean_Tweets'].str.replace('#[A-Za-z0-9_]','', regex=True)\n",
    "\n",
    "#remove multiple spaces\n",
    "tinubu_df['Clean_Tweets'] = tinubu_df['Clean_Tweets'].str.replace('\\s+',' ', regex=True)\n",
    "\n",
    "#remove single characters\n",
    "tinubu_df['Clean_Tweets'] = tinubu_df['Clean_Tweets'].str.replace('\\s+[a-zA-Z]\\s+',' ', regex=True)\n",
    "\n",
    "#remove digits\n",
    "tinubu_df['Clean_Tweets'] = tinubu_df['Clean_Tweets'].str.replace('\\d+','', regex=True)"
   ]
  },
  {
   "cell_type": "code",
   "execution_count": 19,
   "id": "cfde07fd",
   "metadata": {},
   "outputs": [
    {
     "data": {
      "text/html": [
       "<div>\n",
       "<style scoped>\n",
       "    .dataframe tbody tr th:only-of-type {\n",
       "        vertical-align: middle;\n",
       "    }\n",
       "\n",
       "    .dataframe tbody tr th {\n",
       "        vertical-align: top;\n",
       "    }\n",
       "\n",
       "    .dataframe thead th {\n",
       "        text-align: right;\n",
       "    }\n",
       "</style>\n",
       "<table border=\"1\" class=\"dataframe\">\n",
       "  <thead>\n",
       "    <tr style=\"text-align: right;\">\n",
       "      <th></th>\n",
       "      <th>Time</th>\n",
       "      <th>Text</th>\n",
       "      <th>ID</th>\n",
       "      <th>Clean_Tweets</th>\n",
       "    </tr>\n",
       "  </thead>\n",
       "  <tbody>\n",
       "    <tr>\n",
       "      <th>0</th>\n",
       "      <td>2022-11-18 23:44:03+00:00</td>\n",
       "      <td>b\"RT @DavidHundeyin: For those who still haven...</td>\n",
       "      <td>1</td>\n",
       "      <td>for those who still haven read it this is the...</td>\n",
       "    </tr>\n",
       "    <tr>\n",
       "      <th>1</th>\n",
       "      <td>2022-11-18 23:43:44+00:00</td>\n",
       "      <td>b\"RT @DavidHundeyin: For those who still haven...</td>\n",
       "      <td>2</td>\n",
       "      <td>for those who still haven read it this is the...</td>\n",
       "    </tr>\n",
       "    <tr>\n",
       "      <th>2</th>\n",
       "      <td>2022-11-18 23:43:27+00:00</td>\n",
       "      <td>b\"RT @DavidHundeyin: For those who still haven...</td>\n",
       "      <td>3</td>\n",
       "      <td>for those who still haven read it this is the...</td>\n",
       "    </tr>\n",
       "    <tr>\n",
       "      <th>3</th>\n",
       "      <td>2022-11-18 23:43:11+00:00</td>\n",
       "      <td>b\"RT @DavidHundeyin: For those who still haven...</td>\n",
       "      <td>4</td>\n",
       "      <td>for those who still haven read it this is the...</td>\n",
       "    </tr>\n",
       "    <tr>\n",
       "      <th>4</th>\n",
       "      <td>2022-11-18 23:43:02+00:00</td>\n",
       "      <td>b'RT @JeffreyGuterman: Tinubu submitted forged...</td>\n",
       "      <td>5</td>\n",
       "      <td>tinubu submitted forged documents and committ...</td>\n",
       "    </tr>\n",
       "  </tbody>\n",
       "</table>\n",
       "</div>"
      ],
      "text/plain": [
       "                        Time  \\\n",
       "0  2022-11-18 23:44:03+00:00   \n",
       "1  2022-11-18 23:43:44+00:00   \n",
       "2  2022-11-18 23:43:27+00:00   \n",
       "3  2022-11-18 23:43:11+00:00   \n",
       "4  2022-11-18 23:43:02+00:00   \n",
       "\n",
       "                                                Text  ID  \\\n",
       "0  b\"RT @DavidHundeyin: For those who still haven...   1   \n",
       "1  b\"RT @DavidHundeyin: For those who still haven...   2   \n",
       "2  b\"RT @DavidHundeyin: For those who still haven...   3   \n",
       "3  b\"RT @DavidHundeyin: For those who still haven...   4   \n",
       "4  b'RT @JeffreyGuterman: Tinubu submitted forged...   5   \n",
       "\n",
       "                                        Clean_Tweets  \n",
       "0   for those who still haven read it this is the...  \n",
       "1   for those who still haven read it this is the...  \n",
       "2   for those who still haven read it this is the...  \n",
       "3   for those who still haven read it this is the...  \n",
       "4   tinubu submitted forged documents and committ...  "
      ]
     },
     "execution_count": 19,
     "metadata": {},
     "output_type": "execute_result"
    }
   ],
   "source": [
    "tinubu_df.head()"
   ]
  },
  {
   "cell_type": "code",
   "execution_count": 20,
   "id": "190490c4",
   "metadata": {},
   "outputs": [],
   "source": [
    "clean_tweets=atiku_df['Text']\n",
    "atiku_df['Clean_Tweets']=clean_tweets"
   ]
  },
  {
   "cell_type": "code",
   "execution_count": 21,
   "id": "6af1015e",
   "metadata": {},
   "outputs": [],
   "source": [
    "#convert the text in the Text column to lowercase\n",
    "\n",
    "atiku_df['Clean_Tweets'] = atiku_df['Clean_Tweets'].str.lower()\n",
    "\n",
    "#remove usernames\n",
    "atiku_df['Clean_Tweets'] = atiku_df['Clean_Tweets'].str.replace('@[\\w]+','', regex=True)\n",
    "\n",
    "\n",
    "atiku_df['Clean_Tweets'] = atiku_df['Clean_Tweets'].str.replace('b\\'rt\\s','', regex=True)\n",
    "\n",
    "atiku_df['Clean_Tweets'] = atiku_df['Clean_Tweets'].str.replace('b\\\"rt\\s','', regex=True)\n",
    "\n",
    "atiku_df['Clean_Tweets'] = atiku_df['Clean_Tweets'].str.replace('\\n','', regex=True)\n",
    "\n",
    "atiku_df['Clean_Tweets'] = atiku_df['Clean_Tweets'].str.replace('\\t','', regex=True)\n",
    "\n",
    "#remove non-alphanumeric characters\n",
    "atiku_df['Clean_Tweets'] = atiku_df['Clean_Tweets'].str.replace('[^a-z0-9]',' ', regex=True)\n",
    "\n",
    "#remove links\n",
    "atiku_df['Clean_Tweets'] = atiku_df['Clean_Tweets'].str.replace('http\\S+','', regex=True)\n",
    "\n",
    "atiku_df['Clean_Tweets'] = atiku_df['Clean_Tweets'].str.replace('www.\\S+','', regex=True)\n",
    "\n",
    "#remove hashtags\n",
    "atiku_df['Clean_Tweets'] = atiku_df['Clean_Tweets'].str.replace('#[A-Za-z0-9_]','', regex=True)\n",
    "\n",
    "#remove multiple spaces\n",
    "atiku_df['Clean_Tweets'] = atiku_df['Clean_Tweets'].str.replace('\\s+',' ', regex=True)\n",
    "\n",
    "#remove single characters\n",
    "atiku_df['Clean_Tweets'] = atiku_df['Clean_Tweets'].str.replace('\\s+[a-zA-Z]\\s+',' ', regex=True)\n",
    "\n",
    "#remove digits\n",
    "atiku_df['Clean_Tweets'] = atiku_df['Clean_Tweets'].str.replace('\\d+','', regex=True)"
   ]
  },
  {
   "cell_type": "code",
   "execution_count": 22,
   "id": "64092229",
   "metadata": {},
   "outputs": [
    {
     "data": {
      "text/html": [
       "<div>\n",
       "<style scoped>\n",
       "    .dataframe tbody tr th:only-of-type {\n",
       "        vertical-align: middle;\n",
       "    }\n",
       "\n",
       "    .dataframe tbody tr th {\n",
       "        vertical-align: top;\n",
       "    }\n",
       "\n",
       "    .dataframe thead th {\n",
       "        text-align: right;\n",
       "    }\n",
       "</style>\n",
       "<table border=\"1\" class=\"dataframe\">\n",
       "  <thead>\n",
       "    <tr style=\"text-align: right;\">\n",
       "      <th></th>\n",
       "      <th>Time</th>\n",
       "      <th>Text</th>\n",
       "      <th>ID</th>\n",
       "      <th>Clean_Tweets</th>\n",
       "    </tr>\n",
       "  </thead>\n",
       "  <tbody>\n",
       "    <tr>\n",
       "      <th>0</th>\n",
       "      <td>2022-11-19 00:33:01+00:00</td>\n",
       "      <td>b\"RT @Ucijomanta: Restructuring,\\nRule of Law,...</td>\n",
       "      <td>1</td>\n",
       "      <td>restructuring nrule of law ntrue federalism n...</td>\n",
       "    </tr>\n",
       "    <tr>\n",
       "      <th>1</th>\n",
       "      <td>2022-11-19 00:26:21+00:00</td>\n",
       "      <td>b'RT @Capt_Aliyu: Buhari will go down as the w...</td>\n",
       "      <td>2</td>\n",
       "      <td>buhari will go down as the worse president in...</td>\n",
       "    </tr>\n",
       "    <tr>\n",
       "      <th>2</th>\n",
       "      <td>2022-11-19 00:18:57+00:00</td>\n",
       "      <td>b'RT @Dec_Uche: Atiku Abubakar is 360 degrees ...</td>\n",
       "      <td>3</td>\n",
       "      <td>atiku abubakar is  degrees ahead of other pre...</td>\n",
       "    </tr>\n",
       "    <tr>\n",
       "      <th>3</th>\n",
       "      <td>2022-11-19 00:16:53+00:00</td>\n",
       "      <td>b'RT @Tony_Ogbuagu: If there is anything you w...</td>\n",
       "      <td>4</td>\n",
       "      <td>if there is anything you will miss don xe x x...</td>\n",
       "    </tr>\n",
       "    <tr>\n",
       "      <th>4</th>\n",
       "      <td>2022-11-19 00:16:24+00:00</td>\n",
       "      <td>b'RT @cousinray_: BREAKING NEWS!! \\nMFN Coalit...</td>\n",
       "      <td>5</td>\n",
       "      <td>breaking news nmfn coalition condemns atiku a...</td>\n",
       "    </tr>\n",
       "  </tbody>\n",
       "</table>\n",
       "</div>"
      ],
      "text/plain": [
       "                        Time  \\\n",
       "0  2022-11-19 00:33:01+00:00   \n",
       "1  2022-11-19 00:26:21+00:00   \n",
       "2  2022-11-19 00:18:57+00:00   \n",
       "3  2022-11-19 00:16:53+00:00   \n",
       "4  2022-11-19 00:16:24+00:00   \n",
       "\n",
       "                                                Text  ID  \\\n",
       "0  b\"RT @Ucijomanta: Restructuring,\\nRule of Law,...   1   \n",
       "1  b'RT @Capt_Aliyu: Buhari will go down as the w...   2   \n",
       "2  b'RT @Dec_Uche: Atiku Abubakar is 360 degrees ...   3   \n",
       "3  b'RT @Tony_Ogbuagu: If there is anything you w...   4   \n",
       "4  b'RT @cousinray_: BREAKING NEWS!! \\nMFN Coalit...   5   \n",
       "\n",
       "                                        Clean_Tweets  \n",
       "0   restructuring nrule of law ntrue federalism n...  \n",
       "1   buhari will go down as the worse president in...  \n",
       "2   atiku abubakar is  degrees ahead of other pre...  \n",
       "3   if there is anything you will miss don xe x x...  \n",
       "4   breaking news nmfn coalition condemns atiku a...  "
      ]
     },
     "execution_count": 22,
     "metadata": {},
     "output_type": "execute_result"
    }
   ],
   "source": [
    "atiku_df.head()"
   ]
  },
  {
   "cell_type": "code",
   "execution_count": 23,
   "id": "1d51d5a3",
   "metadata": {},
   "outputs": [],
   "source": [
    "#tokenize the text in Clean_Tweets columnn and store in a new column called tweet_tokens\n",
    "def apwords(words):\n",
    "    filtered_sentence = []\n",
    "    words = word_tokenize(words)\n",
    "    for w in words:\n",
    "        filtered_sentence.append(w)\n",
    "    return filtered_sentence\n",
    "addwords = lambda x: apwords(x)"
   ]
  },
  {
   "cell_type": "code",
   "execution_count": 24,
   "id": "4409940d",
   "metadata": {},
   "outputs": [],
   "source": [
    "peter_df['Tweet_tokens'] = peter_df['Clean_Tweets'].apply(addwords)"
   ]
  },
  {
   "cell_type": "code",
   "execution_count": 25,
   "id": "7c466e4a",
   "metadata": {},
   "outputs": [],
   "source": [
    "tinubu_df['Tweet_tokens'] = tinubu_df['Clean_Tweets'].apply(addwords)"
   ]
  },
  {
   "cell_type": "code",
   "execution_count": 26,
   "id": "791532a2",
   "metadata": {},
   "outputs": [],
   "source": [
    "atiku_df['Tweet_tokens'] = atiku_df['Clean_Tweets'].apply(addwords)"
   ]
  },
  {
   "cell_type": "code",
   "execution_count": 27,
   "id": "c5180816",
   "metadata": {},
   "outputs": [],
   "source": [
    "from nltk.corpus import stopwords\n",
    "stop = stopwords.words('english')"
   ]
  },
  {
   "cell_type": "code",
   "execution_count": 28,
   "id": "055ffcb4",
   "metadata": {},
   "outputs": [],
   "source": [
    "#remove stopwords from token_list and store in a new column called 'no_stop_tokens'\n",
    "\n",
    "peter_df['no_stop_tokens']= peter_df['Tweet_tokens'].apply(lambda x: [item for item in x if item not in stop])\n",
    "tinubu_df['no_stop_tokens']= tinubu_df['Tweet_tokens'].apply(lambda x: [item for item in x if item not in stop])\n",
    "atiku_df['no_stop_tokens']= atiku_df['Tweet_tokens'].apply(lambda x: [item for item in x if item not in stop])\n"
   ]
  },
  {
   "cell_type": "code",
   "execution_count": 29,
   "id": "cbf5d0ed",
   "metadata": {},
   "outputs": [],
   "source": [
    "#calling the SentimentIntensityAnalyzer into sentiment\n",
    "\n",
    "sentiment = SentimentIntensityAnalyzer()"
   ]
  },
  {
   "cell_type": "code",
   "execution_count": 30,
   "id": "1c57a8da",
   "metadata": {},
   "outputs": [
    {
     "data": {
      "application/vnd.jupyter.widget-view+json": {
       "model_id": "feb3de6ce2be447db89fe388205f36aa",
       "version_major": 2,
       "version_minor": 0
      },
      "text/plain": [
       "  0%|          | 0/10000 [00:00<?, ?it/s]"
      ]
     },
     "metadata": {},
     "output_type": "display_data"
    }
   ],
   "source": [
    "#Using sentiment process the no_stop_tokens column to get the neg, neu, pos and compound scores\n",
    "\n",
    "peter_result = {}\n",
    "for i, row in tqdm(peter_df.iterrows(),total=len(peter_df)):\n",
    "    text=row['Clean_Tweets']\n",
    "    myid=row['ID']\n",
    "    peter_result[myid]=sentiment.polarity_scores(text)\n",
    "    "
   ]
  },
  {
   "cell_type": "code",
   "execution_count": 31,
   "id": "55aa12c5",
   "metadata": {},
   "outputs": [],
   "source": [
    "#append the results from sentiment analysis to peter_df\n",
    "\n",
    "peter_result_df=pd.DataFrame(peter_result).T\n",
    "peter_result_df=peter_result_df.reset_index().rename(columns={'index':'ID'})\n",
    "peter_df=peter_df.merge(peter_result_df)"
   ]
  },
  {
   "cell_type": "code",
   "execution_count": 32,
   "id": "d073cf73",
   "metadata": {},
   "outputs": [
    {
     "data": {
      "application/vnd.jupyter.widget-view+json": {
       "model_id": "ef5b59dfe0294b038e7e413c5469c539",
       "version_major": 2,
       "version_minor": 0
      },
      "text/plain": [
       "  0%|          | 0/10000 [00:00<?, ?it/s]"
      ]
     },
     "metadata": {},
     "output_type": "display_data"
    }
   ],
   "source": [
    "#Using sentiment process the no_stop_tokens column to get the neg, neu, pos and compound scores\n",
    "\n",
    "tinubu_result = {}\n",
    "for i, row in tqdm(tinubu_df.iterrows(),total=len(tinubu_df)):\n",
    "    text=row['Clean_Tweets']\n",
    "    myid=row['ID']\n",
    "    tinubu_result[myid]=sentiment.polarity_scores(text)"
   ]
  },
  {
   "cell_type": "code",
   "execution_count": 33,
   "id": "78232bd2",
   "metadata": {},
   "outputs": [],
   "source": [
    "#append the results from sentiment analysis to tinubu_df\n",
    "\n",
    "tinubu_result_df=pd.DataFrame(tinubu_result).T\n",
    "tinubu_result_df=tinubu_result_df.reset_index().rename(columns={'index':'ID'})\n",
    "tinubu_df=tinubu_df.merge(tinubu_result_df)"
   ]
  },
  {
   "cell_type": "code",
   "execution_count": 34,
   "id": "80b5dacf",
   "metadata": {},
   "outputs": [
    {
     "data": {
      "application/vnd.jupyter.widget-view+json": {
       "model_id": "6698566a61874ee5916e88b4cb7ab457",
       "version_major": 2,
       "version_minor": 0
      },
      "text/plain": [
       "  0%|          | 0/10000 [00:00<?, ?it/s]"
      ]
     },
     "metadata": {},
     "output_type": "display_data"
    }
   ],
   "source": [
    "#Using sentiment process the no_stop_tokens column to get the neg, neu, pos and compound scores\n",
    "\n",
    "atiku_result = {}\n",
    "for i, row in tqdm(atiku_df.iterrows(),total=len(atiku_df)):\n",
    "    text=row['Clean_Tweets']\n",
    "    myid=row['ID']\n",
    "    atiku_result[myid]=sentiment.polarity_scores(text)"
   ]
  },
  {
   "cell_type": "code",
   "execution_count": 35,
   "id": "4dfdc6e3",
   "metadata": {},
   "outputs": [],
   "source": [
    "#append the results from sentiment analysis to atiku_df\n",
    "\n",
    "atiku_result_df=pd.DataFrame(atiku_result).T\n",
    "atiku_result_df=atiku_result_df.reset_index().rename(columns={'index':'ID'})\n",
    "atiku_df=atiku_df.merge(atiku_result_df)"
   ]
  },
  {
   "cell_type": "code",
   "execution_count": 36,
   "id": "e0aca79f",
   "metadata": {},
   "outputs": [],
   "source": [
    "# specify positive and negative compound scores for each review\n",
    "\n",
    "peter_df.loc[peter_df['compound'] > 0, 'comp_score'] = 'positive'\n",
    "peter_df.loc[peter_df['compound'] < 0, 'comp_score'] = 'negative'\n",
    "peter_df.loc[peter_df['compound'] == 0, 'comp_score'] = 'neutral'\n",
    "\n",
    "tinubu_df.loc[tinubu_df['compound'] > 0, 'comp_score'] = 'positive'\n",
    "tinubu_df.loc[tinubu_df['compound'] < 0, 'comp_score'] = 'negative'\n",
    "tinubu_df.loc[tinubu_df['compound'] == 0, 'comp_score'] = 'neutral'\n",
    "\n",
    "atiku_df.loc[atiku_df['compound'] > 0, 'comp_score'] = 'positive'\n",
    "atiku_df.loc[atiku_df['compound'] < 0, 'comp_score'] = 'negative'\n",
    "atiku_df.loc[atiku_df['compound'] == 0, 'comp_score'] = 'neutral'\n"
   ]
  },
  {
   "cell_type": "code",
   "execution_count": 37,
   "id": "b4f66705",
   "metadata": {
    "scrolled": true
   },
   "outputs": [
    {
     "data": {
      "text/plain": [
       "Index(['Time', 'Text', 'ID', 'Clean_Tweets', 'Tweet_tokens', 'no_stop_tokens',\n",
       "       'neg', 'neu', 'pos', 'compound', 'comp_score'],\n",
       "      dtype='object')"
      ]
     },
     "execution_count": 37,
     "metadata": {},
     "output_type": "execute_result"
    }
   ],
   "source": [
    "peter_df.columns"
   ]
  },
  {
   "cell_type": "code",
   "execution_count": 38,
   "id": "e6e7d727",
   "metadata": {},
   "outputs": [
    {
     "data": {
      "text/html": [
       "<div>\n",
       "<style scoped>\n",
       "    .dataframe tbody tr th:only-of-type {\n",
       "        vertical-align: middle;\n",
       "    }\n",
       "\n",
       "    .dataframe tbody tr th {\n",
       "        vertical-align: top;\n",
       "    }\n",
       "\n",
       "    .dataframe thead th {\n",
       "        text-align: right;\n",
       "    }\n",
       "</style>\n",
       "<table border=\"1\" class=\"dataframe\">\n",
       "  <thead>\n",
       "    <tr style=\"text-align: right;\">\n",
       "      <th></th>\n",
       "      <th>Time</th>\n",
       "      <th>Text</th>\n",
       "      <th>ID</th>\n",
       "      <th>Clean_Tweets</th>\n",
       "      <th>Tweet_tokens</th>\n",
       "      <th>no_stop_tokens</th>\n",
       "      <th>neg</th>\n",
       "      <th>neu</th>\n",
       "      <th>pos</th>\n",
       "      <th>compound</th>\n",
       "      <th>comp_score</th>\n",
       "    </tr>\n",
       "  </thead>\n",
       "  <tbody>\n",
       "    <tr>\n",
       "      <th>0</th>\n",
       "      <td>2022-11-18 22:50:30+00:00</td>\n",
       "      <td>b'RT @Sports_Doctor2: Peter Obi as Governor of...</td>\n",
       "      <td>1</td>\n",
       "      <td>peter obi as governor of anambra state invite...</td>\n",
       "      <td>[peter, obi, as, governor, of, anambra, state,...</td>\n",
       "      <td>[peter, obi, governor, anambra, state, invited...</td>\n",
       "      <td>0.000</td>\n",
       "      <td>1.000</td>\n",
       "      <td>0.000</td>\n",
       "      <td>0.0000</td>\n",
       "      <td>neutral</td>\n",
       "    </tr>\n",
       "    <tr>\n",
       "      <th>1</th>\n",
       "      <td>2022-11-18 22:50:26+00:00</td>\n",
       "      <td>b'RT @jeffphilips1: Peter Obi is planning to c...</td>\n",
       "      <td>2</td>\n",
       "      <td>peter obi is planning to come and render all ...</td>\n",
       "      <td>[peter, obi, is, planning, to, come, and, rend...</td>\n",
       "      <td>[peter, obi, planning, come, render, investmen...</td>\n",
       "      <td>0.123</td>\n",
       "      <td>0.877</td>\n",
       "      <td>0.000</td>\n",
       "      <td>-0.4215</td>\n",
       "      <td>negative</td>\n",
       "    </tr>\n",
       "    <tr>\n",
       "      <th>2</th>\n",
       "      <td>2022-11-18 22:50:20+00:00</td>\n",
       "      <td>b'RT @NnamdiChife: Peter Obi will win the FCT.'</td>\n",
       "      <td>3</td>\n",
       "      <td>peter obi will win the fct</td>\n",
       "      <td>[peter, obi, will, win, the, fct]</td>\n",
       "      <td>[peter, obi, win, fct]</td>\n",
       "      <td>0.000</td>\n",
       "      <td>0.568</td>\n",
       "      <td>0.432</td>\n",
       "      <td>0.5859</td>\n",
       "      <td>positive</td>\n",
       "    </tr>\n",
       "    <tr>\n",
       "      <th>3</th>\n",
       "      <td>2022-11-18 22:50:18+00:00</td>\n",
       "      <td>b'RT @BishopPOEvang: We had a blast time today...</td>\n",
       "      <td>4</td>\n",
       "      <td>we had blast time today sensitization for gra...</td>\n",
       "      <td>[we, had, blast, time, today, sensitization, f...</td>\n",
       "      <td>[blast, time, today, sensitization, grassroot,...</td>\n",
       "      <td>0.000</td>\n",
       "      <td>1.000</td>\n",
       "      <td>0.000</td>\n",
       "      <td>0.0000</td>\n",
       "      <td>neutral</td>\n",
       "    </tr>\n",
       "    <tr>\n",
       "      <th>4</th>\n",
       "      <td>2022-11-18 22:50:18+00:00</td>\n",
       "      <td>b\"RT @AishaYesufu: When Peter Obi @PeterObi sp...</td>\n",
       "      <td>5</td>\n",
       "      <td>when peter obi speaks don hold my breath know...</td>\n",
       "      <td>[when, peter, obi, speaks, don, hold, my, brea...</td>\n",
       "      <td>[peter, obi, speaks, hold, breath, know, capab...</td>\n",
       "      <td>0.000</td>\n",
       "      <td>0.894</td>\n",
       "      <td>0.106</td>\n",
       "      <td>0.3818</td>\n",
       "      <td>positive</td>\n",
       "    </tr>\n",
       "  </tbody>\n",
       "</table>\n",
       "</div>"
      ],
      "text/plain": [
       "                        Time  \\\n",
       "0  2022-11-18 22:50:30+00:00   \n",
       "1  2022-11-18 22:50:26+00:00   \n",
       "2  2022-11-18 22:50:20+00:00   \n",
       "3  2022-11-18 22:50:18+00:00   \n",
       "4  2022-11-18 22:50:18+00:00   \n",
       "\n",
       "                                                Text  ID  \\\n",
       "0  b'RT @Sports_Doctor2: Peter Obi as Governor of...   1   \n",
       "1  b'RT @jeffphilips1: Peter Obi is planning to c...   2   \n",
       "2    b'RT @NnamdiChife: Peter Obi will win the FCT.'   3   \n",
       "3  b'RT @BishopPOEvang: We had a blast time today...   4   \n",
       "4  b\"RT @AishaYesufu: When Peter Obi @PeterObi sp...   5   \n",
       "\n",
       "                                        Clean_Tweets  \\\n",
       "0   peter obi as governor of anambra state invite...   \n",
       "1   peter obi is planning to come and render all ...   \n",
       "2                        peter obi will win the fct    \n",
       "3   we had blast time today sensitization for gra...   \n",
       "4   when peter obi speaks don hold my breath know...   \n",
       "\n",
       "                                        Tweet_tokens  \\\n",
       "0  [peter, obi, as, governor, of, anambra, state,...   \n",
       "1  [peter, obi, is, planning, to, come, and, rend...   \n",
       "2                  [peter, obi, will, win, the, fct]   \n",
       "3  [we, had, blast, time, today, sensitization, f...   \n",
       "4  [when, peter, obi, speaks, don, hold, my, brea...   \n",
       "\n",
       "                                      no_stop_tokens    neg    neu    pos  \\\n",
       "0  [peter, obi, governor, anambra, state, invited...  0.000  1.000  0.000   \n",
       "1  [peter, obi, planning, come, render, investmen...  0.123  0.877  0.000   \n",
       "2                             [peter, obi, win, fct]  0.000  0.568  0.432   \n",
       "3  [blast, time, today, sensitization, grassroot,...  0.000  1.000  0.000   \n",
       "4  [peter, obi, speaks, hold, breath, know, capab...  0.000  0.894  0.106   \n",
       "\n",
       "   compound comp_score  \n",
       "0    0.0000    neutral  \n",
       "1   -0.4215   negative  \n",
       "2    0.5859   positive  \n",
       "3    0.0000    neutral  \n",
       "4    0.3818   positive  "
      ]
     },
     "execution_count": 38,
     "metadata": {},
     "output_type": "execute_result"
    }
   ],
   "source": [
    "peter_df.head()"
   ]
  },
  {
   "cell_type": "code",
   "execution_count": 39,
   "id": "b9bc13be",
   "metadata": {
    "scrolled": true
   },
   "outputs": [
    {
     "data": {
      "text/plain": [
       "positive    4105\n",
       "negative    3065\n",
       "neutral     2830\n",
       "Name: comp_score, dtype: int64"
      ]
     },
     "execution_count": 39,
     "metadata": {},
     "output_type": "execute_result"
    }
   ],
   "source": [
    "peter_df.comp_score.value_counts()"
   ]
  },
  {
   "cell_type": "code",
   "execution_count": 40,
   "id": "c5c55452",
   "metadata": {},
   "outputs": [
    {
     "data": {
      "text/html": [
       "<div>\n",
       "<style scoped>\n",
       "    .dataframe tbody tr th:only-of-type {\n",
       "        vertical-align: middle;\n",
       "    }\n",
       "\n",
       "    .dataframe tbody tr th {\n",
       "        vertical-align: top;\n",
       "    }\n",
       "\n",
       "    .dataframe thead th {\n",
       "        text-align: right;\n",
       "    }\n",
       "</style>\n",
       "<table border=\"1\" class=\"dataframe\">\n",
       "  <thead>\n",
       "    <tr style=\"text-align: right;\">\n",
       "      <th></th>\n",
       "      <th>Time</th>\n",
       "      <th>Text</th>\n",
       "      <th>ID</th>\n",
       "      <th>Clean_Tweets</th>\n",
       "      <th>Tweet_tokens</th>\n",
       "      <th>no_stop_tokens</th>\n",
       "      <th>neg</th>\n",
       "      <th>neu</th>\n",
       "      <th>pos</th>\n",
       "      <th>compound</th>\n",
       "      <th>comp_score</th>\n",
       "    </tr>\n",
       "  </thead>\n",
       "  <tbody>\n",
       "    <tr>\n",
       "      <th>0</th>\n",
       "      <td>2022-11-18 23:44:03+00:00</td>\n",
       "      <td>b\"RT @DavidHundeyin: For those who still haven...</td>\n",
       "      <td>1</td>\n",
       "      <td>for those who still haven read it this is the...</td>\n",
       "      <td>[for, those, who, still, haven, read, it, this...</td>\n",
       "      <td>[still, read, story, contains, receipts, showi...</td>\n",
       "      <td>0.000</td>\n",
       "      <td>1.000</td>\n",
       "      <td>0.000</td>\n",
       "      <td>0.0000</td>\n",
       "      <td>neutral</td>\n",
       "    </tr>\n",
       "    <tr>\n",
       "      <th>1</th>\n",
       "      <td>2022-11-18 23:43:44+00:00</td>\n",
       "      <td>b\"RT @DavidHundeyin: For those who still haven...</td>\n",
       "      <td>2</td>\n",
       "      <td>for those who still haven read it this is the...</td>\n",
       "      <td>[for, those, who, still, haven, read, it, this...</td>\n",
       "      <td>[still, read, story, contains, receipts, showi...</td>\n",
       "      <td>0.000</td>\n",
       "      <td>1.000</td>\n",
       "      <td>0.000</td>\n",
       "      <td>0.0000</td>\n",
       "      <td>neutral</td>\n",
       "    </tr>\n",
       "    <tr>\n",
       "      <th>2</th>\n",
       "      <td>2022-11-18 23:43:27+00:00</td>\n",
       "      <td>b\"RT @DavidHundeyin: For those who still haven...</td>\n",
       "      <td>3</td>\n",
       "      <td>for those who still haven read it this is the...</td>\n",
       "      <td>[for, those, who, still, haven, read, it, this...</td>\n",
       "      <td>[still, read, story, contains, receipts, showi...</td>\n",
       "      <td>0.000</td>\n",
       "      <td>1.000</td>\n",
       "      <td>0.000</td>\n",
       "      <td>0.0000</td>\n",
       "      <td>neutral</td>\n",
       "    </tr>\n",
       "    <tr>\n",
       "      <th>3</th>\n",
       "      <td>2022-11-18 23:43:11+00:00</td>\n",
       "      <td>b\"RT @DavidHundeyin: For those who still haven...</td>\n",
       "      <td>4</td>\n",
       "      <td>for those who still haven read it this is the...</td>\n",
       "      <td>[for, those, who, still, haven, read, it, this...</td>\n",
       "      <td>[still, read, story, contains, receipts, showi...</td>\n",
       "      <td>0.000</td>\n",
       "      <td>1.000</td>\n",
       "      <td>0.000</td>\n",
       "      <td>0.0000</td>\n",
       "      <td>neutral</td>\n",
       "    </tr>\n",
       "    <tr>\n",
       "      <th>4</th>\n",
       "      <td>2022-11-18 23:43:02+00:00</td>\n",
       "      <td>b'RT @JeffreyGuterman: Tinubu submitted forged...</td>\n",
       "      <td>5</td>\n",
       "      <td>tinubu submitted forged documents and committ...</td>\n",
       "      <td>[tinubu, submitted, forged, documents, and, co...</td>\n",
       "      <td>[tinubu, submitted, forged, documents, committ...</td>\n",
       "      <td>0.181</td>\n",
       "      <td>0.688</td>\n",
       "      <td>0.131</td>\n",
       "      <td>-0.2023</td>\n",
       "      <td>negative</td>\n",
       "    </tr>\n",
       "  </tbody>\n",
       "</table>\n",
       "</div>"
      ],
      "text/plain": [
       "                        Time  \\\n",
       "0  2022-11-18 23:44:03+00:00   \n",
       "1  2022-11-18 23:43:44+00:00   \n",
       "2  2022-11-18 23:43:27+00:00   \n",
       "3  2022-11-18 23:43:11+00:00   \n",
       "4  2022-11-18 23:43:02+00:00   \n",
       "\n",
       "                                                Text  ID  \\\n",
       "0  b\"RT @DavidHundeyin: For those who still haven...   1   \n",
       "1  b\"RT @DavidHundeyin: For those who still haven...   2   \n",
       "2  b\"RT @DavidHundeyin: For those who still haven...   3   \n",
       "3  b\"RT @DavidHundeyin: For those who still haven...   4   \n",
       "4  b'RT @JeffreyGuterman: Tinubu submitted forged...   5   \n",
       "\n",
       "                                        Clean_Tweets  \\\n",
       "0   for those who still haven read it this is the...   \n",
       "1   for those who still haven read it this is the...   \n",
       "2   for those who still haven read it this is the...   \n",
       "3   for those who still haven read it this is the...   \n",
       "4   tinubu submitted forged documents and committ...   \n",
       "\n",
       "                                        Tweet_tokens  \\\n",
       "0  [for, those, who, still, haven, read, it, this...   \n",
       "1  [for, those, who, still, haven, read, it, this...   \n",
       "2  [for, those, who, still, haven, read, it, this...   \n",
       "3  [for, those, who, still, haven, read, it, this...   \n",
       "4  [tinubu, submitted, forged, documents, and, co...   \n",
       "\n",
       "                                      no_stop_tokens    neg    neu    pos  \\\n",
       "0  [still, read, story, contains, receipts, showi...  0.000  1.000  0.000   \n",
       "1  [still, read, story, contains, receipts, showi...  0.000  1.000  0.000   \n",
       "2  [still, read, story, contains, receipts, showi...  0.000  1.000  0.000   \n",
       "3  [still, read, story, contains, receipts, showi...  0.000  1.000  0.000   \n",
       "4  [tinubu, submitted, forged, documents, committ...  0.181  0.688  0.131   \n",
       "\n",
       "   compound comp_score  \n",
       "0    0.0000    neutral  \n",
       "1    0.0000    neutral  \n",
       "2    0.0000    neutral  \n",
       "3    0.0000    neutral  \n",
       "4   -0.2023   negative  "
      ]
     },
     "execution_count": 40,
     "metadata": {},
     "output_type": "execute_result"
    }
   ],
   "source": [
    "tinubu_df.head()"
   ]
  },
  {
   "cell_type": "code",
   "execution_count": 41,
   "id": "025c3174",
   "metadata": {},
   "outputs": [
    {
     "data": {
      "text/plain": [
       "neutral     5176\n",
       "positive    4143\n",
       "negative     681\n",
       "Name: comp_score, dtype: int64"
      ]
     },
     "execution_count": 41,
     "metadata": {},
     "output_type": "execute_result"
    }
   ],
   "source": [
    "tinubu_df.comp_score.value_counts()"
   ]
  },
  {
   "cell_type": "code",
   "execution_count": 42,
   "id": "195f8e7c",
   "metadata": {},
   "outputs": [
    {
     "data": {
      "text/html": [
       "<div>\n",
       "<style scoped>\n",
       "    .dataframe tbody tr th:only-of-type {\n",
       "        vertical-align: middle;\n",
       "    }\n",
       "\n",
       "    .dataframe tbody tr th {\n",
       "        vertical-align: top;\n",
       "    }\n",
       "\n",
       "    .dataframe thead th {\n",
       "        text-align: right;\n",
       "    }\n",
       "</style>\n",
       "<table border=\"1\" class=\"dataframe\">\n",
       "  <thead>\n",
       "    <tr style=\"text-align: right;\">\n",
       "      <th></th>\n",
       "      <th>Time</th>\n",
       "      <th>Text</th>\n",
       "      <th>ID</th>\n",
       "      <th>Clean_Tweets</th>\n",
       "      <th>Tweet_tokens</th>\n",
       "      <th>no_stop_tokens</th>\n",
       "      <th>neg</th>\n",
       "      <th>neu</th>\n",
       "      <th>pos</th>\n",
       "      <th>compound</th>\n",
       "      <th>comp_score</th>\n",
       "    </tr>\n",
       "  </thead>\n",
       "  <tbody>\n",
       "    <tr>\n",
       "      <th>0</th>\n",
       "      <td>2022-11-19 00:33:01+00:00</td>\n",
       "      <td>b\"RT @Ucijomanta: Restructuring,\\nRule of Law,...</td>\n",
       "      <td>1</td>\n",
       "      <td>restructuring nrule of law ntrue federalism n...</td>\n",
       "      <td>[restructuring, nrule, of, law, ntrue, federal...</td>\n",
       "      <td>[restructuring, nrule, law, ntrue, federalism,...</td>\n",
       "      <td>0.000</td>\n",
       "      <td>0.892</td>\n",
       "      <td>0.108</td>\n",
       "      <td>0.3182</td>\n",
       "      <td>positive</td>\n",
       "    </tr>\n",
       "    <tr>\n",
       "      <th>1</th>\n",
       "      <td>2022-11-19 00:26:21+00:00</td>\n",
       "      <td>b'RT @Capt_Aliyu: Buhari will go down as the w...</td>\n",
       "      <td>2</td>\n",
       "      <td>buhari will go down as the worse president in...</td>\n",
       "      <td>[buhari, will, go, down, as, the, worse, presi...</td>\n",
       "      <td>[buhari, go, worse, president, history, nigeri...</td>\n",
       "      <td>0.214</td>\n",
       "      <td>0.786</td>\n",
       "      <td>0.000</td>\n",
       "      <td>-0.7162</td>\n",
       "      <td>negative</td>\n",
       "    </tr>\n",
       "    <tr>\n",
       "      <th>2</th>\n",
       "      <td>2022-11-19 00:18:57+00:00</td>\n",
       "      <td>b'RT @Dec_Uche: Atiku Abubakar is 360 degrees ...</td>\n",
       "      <td>3</td>\n",
       "      <td>atiku abubakar is  degrees ahead of other pre...</td>\n",
       "      <td>[atiku, abubakar, is, degrees, ahead, of, othe...</td>\n",
       "      <td>[atiku, abubakar, degrees, ahead, presidential...</td>\n",
       "      <td>0.000</td>\n",
       "      <td>1.000</td>\n",
       "      <td>0.000</td>\n",
       "      <td>0.0000</td>\n",
       "      <td>neutral</td>\n",
       "    </tr>\n",
       "    <tr>\n",
       "      <th>3</th>\n",
       "      <td>2022-11-19 00:16:53+00:00</td>\n",
       "      <td>b'RT @Tony_Ogbuagu: If there is anything you w...</td>\n",
       "      <td>4</td>\n",
       "      <td>if there is anything you will miss don xe x x...</td>\n",
       "      <td>[if, there, is, anything, you, will, miss, don...</td>\n",
       "      <td>[anything, miss, xe, x, xt, miss, townhall, se...</td>\n",
       "      <td>0.122</td>\n",
       "      <td>0.878</td>\n",
       "      <td>0.000</td>\n",
       "      <td>-0.2960</td>\n",
       "      <td>negative</td>\n",
       "    </tr>\n",
       "    <tr>\n",
       "      <th>4</th>\n",
       "      <td>2022-11-19 00:16:24+00:00</td>\n",
       "      <td>b'RT @cousinray_: BREAKING NEWS!! \\nMFN Coalit...</td>\n",
       "      <td>5</td>\n",
       "      <td>breaking news nmfn coalition condemns atiku a...</td>\n",
       "      <td>[breaking, news, nmfn, coalition, condemns, at...</td>\n",
       "      <td>[breaking, news, nmfn, coalition, condemns, at...</td>\n",
       "      <td>0.370</td>\n",
       "      <td>0.630</td>\n",
       "      <td>0.000</td>\n",
       "      <td>-0.8555</td>\n",
       "      <td>negative</td>\n",
       "    </tr>\n",
       "  </tbody>\n",
       "</table>\n",
       "</div>"
      ],
      "text/plain": [
       "                        Time  \\\n",
       "0  2022-11-19 00:33:01+00:00   \n",
       "1  2022-11-19 00:26:21+00:00   \n",
       "2  2022-11-19 00:18:57+00:00   \n",
       "3  2022-11-19 00:16:53+00:00   \n",
       "4  2022-11-19 00:16:24+00:00   \n",
       "\n",
       "                                                Text  ID  \\\n",
       "0  b\"RT @Ucijomanta: Restructuring,\\nRule of Law,...   1   \n",
       "1  b'RT @Capt_Aliyu: Buhari will go down as the w...   2   \n",
       "2  b'RT @Dec_Uche: Atiku Abubakar is 360 degrees ...   3   \n",
       "3  b'RT @Tony_Ogbuagu: If there is anything you w...   4   \n",
       "4  b'RT @cousinray_: BREAKING NEWS!! \\nMFN Coalit...   5   \n",
       "\n",
       "                                        Clean_Tweets  \\\n",
       "0   restructuring nrule of law ntrue federalism n...   \n",
       "1   buhari will go down as the worse president in...   \n",
       "2   atiku abubakar is  degrees ahead of other pre...   \n",
       "3   if there is anything you will miss don xe x x...   \n",
       "4   breaking news nmfn coalition condemns atiku a...   \n",
       "\n",
       "                                        Tweet_tokens  \\\n",
       "0  [restructuring, nrule, of, law, ntrue, federal...   \n",
       "1  [buhari, will, go, down, as, the, worse, presi...   \n",
       "2  [atiku, abubakar, is, degrees, ahead, of, othe...   \n",
       "3  [if, there, is, anything, you, will, miss, don...   \n",
       "4  [breaking, news, nmfn, coalition, condemns, at...   \n",
       "\n",
       "                                      no_stop_tokens    neg    neu    pos  \\\n",
       "0  [restructuring, nrule, law, ntrue, federalism,...  0.000  0.892  0.108   \n",
       "1  [buhari, go, worse, president, history, nigeri...  0.214  0.786  0.000   \n",
       "2  [atiku, abubakar, degrees, ahead, presidential...  0.000  1.000  0.000   \n",
       "3  [anything, miss, xe, x, xt, miss, townhall, se...  0.122  0.878  0.000   \n",
       "4  [breaking, news, nmfn, coalition, condemns, at...  0.370  0.630  0.000   \n",
       "\n",
       "   compound comp_score  \n",
       "0    0.3182   positive  \n",
       "1   -0.7162   negative  \n",
       "2    0.0000    neutral  \n",
       "3   -0.2960   negative  \n",
       "4   -0.8555   negative  "
      ]
     },
     "execution_count": 42,
     "metadata": {},
     "output_type": "execute_result"
    }
   ],
   "source": [
    "atiku_df.head()"
   ]
  },
  {
   "cell_type": "code",
   "execution_count": 43,
   "id": "75340b8d",
   "metadata": {},
   "outputs": [
    {
     "data": {
      "text/plain": [
       "positive    3959\n",
       "neutral     3168\n",
       "negative    2873\n",
       "Name: comp_score, dtype: int64"
      ]
     },
     "execution_count": 43,
     "metadata": {},
     "output_type": "execute_result"
    }
   ],
   "source": [
    "atiku_df.comp_score.value_counts()"
   ]
  },
  {
   "cell_type": "code",
   "execution_count": null,
   "id": "32e8a97d",
   "metadata": {},
   "outputs": [],
   "source": []
  }
 ],
 "metadata": {
  "kernelspec": {
   "display_name": "Python 3 (ipykernel)",
   "language": "python",
   "name": "python3"
  },
  "language_info": {
   "codemirror_mode": {
    "name": "ipython",
    "version": 3
   },
   "file_extension": ".py",
   "mimetype": "text/x-python",
   "name": "python",
   "nbconvert_exporter": "python",
   "pygments_lexer": "ipython3",
   "version": "3.9.12"
  }
 },
 "nbformat": 4,
 "nbformat_minor": 5
}
